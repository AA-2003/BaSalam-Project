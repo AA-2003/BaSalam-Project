{
  "cells": [
    {
      "cell_type": "code",
      "execution_count": null,
      "metadata": {
        "colab": {
          "base_uri": "https://localhost:8080/"
        },
        "id": "MKpM4IpT0eaP",
        "outputId": "c890c246-f257-4e25-f377-bd75f2097d6d"
      },
      "outputs": [],
      "source": [
        "import kagglehub\n",
        "\n",
        "# Download latest version\n",
        "path = kagglehub.dataset_download(\"radeai/basalam-comments-and-products\")\n",
        "\n",
        "print(\"Path to dataset files:\", path)"
      ]
    },
    {
      "cell_type": "code",
      "execution_count": 1,
      "metadata": {
        "id": "7KVg-grr1CMl"
      },
      "outputs": [],
      "source": [
        "import pandas as pd\n",
        "import numpy as np\n",
        "import plotly.express as px\n",
        "import plotly.graph_objects as go\n",
        "import plotly.figure_factory as ff"
      ]
    },
    {
      "cell_type": "code",
      "execution_count": 2,
      "metadata": {
        "id": "C5Wa9sLt1LAd"
      },
      "outputs": [],
      "source": [
        "# products = pd.read_csv('/root/.cache/kagglehub/datasets/radeai/basalam-comments-and-products/versions/1/BaSalam.products.csv', low_memory=False)\n",
        "\n",
        "products = pd.read_csv('data/BaSalam.products.csv', low_memory=False)"
      ]
    },
    {
      "cell_type": "code",
      "execution_count": null,
      "metadata": {
        "colab": {
          "base_uri": "https://localhost:8080/",
          "height": 542
        },
        "id": "hIWe_Q2U1UFG",
        "outputId": "17350dec-bcf3-46a4-e446-8e3c42b0fdcf"
      },
      "outputs": [],
      "source": [
        "fig = px.histogram(products['_score'],\n",
        "                   marginal=\"box\")\n",
        "\n",
        "fig.show()"
      ]
    },
    {
      "cell_type": "code",
      "execution_count": null,
      "metadata": {
        "colab": {
          "base_uri": "https://localhost:8080/",
          "height": 542
        },
        "id": "Binrb6xv2DPT",
        "outputId": "7cafcaec-d80e-4534-c35c-ae4dd610034f"
      },
      "outputs": [],
      "source": [
        "fig = px.histogram(products['sales_count_week'],\n",
        "                   marginal=\"box\")\n",
        "\n",
        "fig.show()"
      ]
    },
    {
      "cell_type": "code",
      "execution_count": null,
      "metadata": {
        "colab": {
          "base_uri": "https://localhost:8080/",
          "height": 542
        },
        "id": "_ae1_NiJ2M8D",
        "outputId": "5ebf9062-0c6e-4fb7-82e3-9eccfae6e8f5"
      },
      "outputs": [],
      "source": [
        "status_plot = pd.DataFrame(products.status_id.value_counts()).reset_index()\n",
        "fig = px.bar(status_plot, x='status_id', y='count')\n",
        "\n",
        "fig.show()"
      ]
    },
    {
      "cell_type": "code",
      "execution_count": null,
      "metadata": {
        "colab": {
          "base_uri": "https://localhost:8080/",
          "height": 542
        },
        "id": "0b0Fqteu2Tla",
        "outputId": "079a6238-1eba-43dc-d79f-05df4414f96f"
      },
      "outputs": [],
      "source": [
        "filtered = products[products['categoryTitle'] != 'سایر'].groupby('categoryTitle')[['rating_average', 'categoryTitle']].filter(lambda x : len(x) > 9000)\n",
        "avg_category_rate = filtered.groupby('categoryTitle')['rating_average'].mean()\n",
        "\n",
        "rating_by_cat_plot = pd.DataFrame({\n",
        "    'category': avg_category_rate.index,\n",
        "    'values': avg_category_rate.values\n",
        "}).sort_values(by='values', ascending=False)\n",
        "\n",
        "fig = px.bar(rating_by_cat_plot, x='category', y='values')\n",
        "\n",
        "fig.show()"
      ]
    },
    {
      "cell_type": "code",
      "execution_count": null,
      "metadata": {
        "colab": {
          "base_uri": "https://localhost:8080/",
          "height": 542
        },
        "id": "jj55HpM12mmx",
        "outputId": "edcff181-9d61-403c-dab0-ab9e71c1a000"
      },
      "outputs": [],
      "source": [
        "cumulative_sum = np.cumsum(products['primaryPrice'] - products['price'])\n",
        "\n",
        "fig = go.Figure(data=[go.Scatter(x=list(range(len(products))), y=cumulative_sum)])\n",
        "\n",
        "fig.show()"
      ]
    }
  ],
  "metadata": {
    "colab": {
      "provenance": []
    },
    "kernelspec": {
      "display_name": "env",
      "language": "python",
      "name": "python3"
    },
    "language_info": {
      "codemirror_mode": {
        "name": "ipython",
        "version": 3
      },
      "file_extension": ".py",
      "mimetype": "text/x-python",
      "name": "python",
      "nbconvert_exporter": "python",
      "pygments_lexer": "ipython3",
      "version": "3.9.0"
    }
  },
  "nbformat": 4,
  "nbformat_minor": 0
}
