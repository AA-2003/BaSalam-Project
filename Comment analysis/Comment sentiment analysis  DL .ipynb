{
  "cells": [
    {
      "cell_type": "code",
      "execution_count": 1,
      "metadata": {
        "id": "gHhojM0UKtPZ"
      },
      "outputs": [],
      "source": [
        "import pandas as pd\n",
        "import numpy as np\n",
        "from tqdm import tqdm\n",
        "from hazm import *\n",
        "from sklearn.model_selection import train_test_split\n",
        "from sklearn.metrics import accuracy_score, classification_report, f1_score\n",
        "import re\n",
        "import emoji\n",
        "import plotly.express as px\n",
        "import plotly.graph_objects as go\n",
        "import matplotlib.pyplot as plt\n",
        "\n",
        "from sklearn.feature_extraction.text import TfidfTransformer, CountVectorizer\n",
        "from sklearn.linear_model import SGDClassifier\n",
        "from sklearn.naive_bayes import MultinomialNB\n",
        "from sklearn.svm import LinearSVC, SVC\n",
        "from sklearn.pipeline import Pipeline"
      ]
    },
    {
      "cell_type": "code",
      "execution_count": 2,
      "metadata": {
        "id": "lRd0fm4SKtPe"
      },
      "outputs": [],
      "source": [
        "folder_path = \"../stopwords\"\n",
        "STOPWORDS = set([\n",
        "    \"از\", \"به\", \"در\", \"با\", \"که\", \"را\", \"تا\", \"و\", \"یا\", \"اما\", \"اگر\", \"برای\", \"بر\",\n",
        "    \"این\", \"آن\", \"یک\", \"هر\", \"هم\", \"همه\", \"چند\", \"چنین\", \"دیگر\", \"چون\", \"مثل\",\n",
        "    \"مانند\", \"چرا\", \"زیرا\", \"ولی\", \"آیا\", \"اگرچه\", \"لذا\", \"نیز\", \"باید\", \"می\",\n",
        "    \"باشد\", \"است\", \"بود\", \"هست\", \"شد\", \"شو\", \"باش\", \"کرد\", \"کن\", \"کند\", \"کرده\",\n",
        "    \"شده\", \"می‌شود\", \"خواهد\", \"خواهند\", \"خواهی\", \"خواهیم\", \"توان\", \"تواند\",\n",
        "    \"توانند\", \"توانست\", \"توانسته\", \"بوده\", \"نبود\", \"نباشد\", \"نیست\", \"نیستند\",\n",
        "    \"بودند\", \"باشند\", \"هستند\", \"دارم\", \"داری\", \"دارد\", \"دارند\", \"داریم\", \"داشت\",\n",
        "    \"داشتند\", \"داشته\", \"داشتم\", \"ندارم\", \"ندارد\", \"ندارند\", \"نداریم\", \"نداشت\",\n",
        "    \"نداشتند\", \"نداشته\", \"ای\", \"ایم\", \"اید\", \"اند\", \"ام\", \"ت\", \"ها\", \"های\", \"هایی\",\n",
        "    \"شان\", \"ش\", \"مان\", \"تان\", \"اینها\", \"آنها\", \"چیز\", \"چیزی\", \"چرا\", \"چه\", \"که\",\n",
        "    \"کدام\", \"چگونه\", \"چقدر\", \"چراکه\", \"آنان\", \"او\", \"آن\", \"ایشان\", \"ما\", \"شما\",\n",
        "    \"آنچه\", \"آنجا\", \"اینجا\", \"اینجاست\", \"آنجاست\", \"همان\", \"خود\", \"همه‌اش\",\n",
        "    \"هیچ\", \"هیچ‌کدام\", \"هرگز\", \"هیچگاه\", \"حالا\", \"اکنون\", \"دیروز\", \"امروز\",\n",
        "    \"فردا\", \"شب\", \"روز\", \"بعد\", \"قبل\", \"ساعت\", \"وقت\", \"زمان\", \"چندین\", \"بار\",\n",
        "    \"کم\", \"بیشتر\", \"کمتر\", \"حتی\", \"فقط\", \"تنها\", \"بالا\", \"پایین\", \"روی\", \"زیر\",\n",
        "    \"جلو\", \"پشت\", \"نزدیک\", \"دور\", \"وسط\", \"بیرون\", \"درون\", \"داخل\", \"کنار\",\n",
        "    \"اینجا\", \"آنجا\", \"هیچ‌جا\", \"هرجا\", \"هرکجا\", \"جا\", \"مکان\", \"محل\", \"چپ\", \"راست\",\n",
        "    \"بعدا\", \"سپس\", \"آنگاه\", \"دیگر\", \"چیزهای\", \"یعنی\", \"خب\", \"آره\", \"نه\", \"باشه\",\n",
        "    \"آها\", \"بله\", \"نمیدانم\", \"کسی\", \"دیگری\", \"هیچ‌کسی\", \"چیزها\"\n",
        "])"
      ]
    },
    {
      "cell_type": "code",
      "execution_count": 3,
      "metadata": {
        "id": "soSQ8hqiKtPg"
      },
      "outputs": [],
      "source": [
        "def is_sticker(token):\n",
        "    # بررسی فرمت فایل\n",
        "    if re.match(r'.*\\.(webp|png|gif|jpg)$', token):\n",
        "        return True\n",
        "    # بررسی ایموجی\n",
        "    if emoji.is_emoji(token):\n",
        "        return True\n",
        "    # بررسی لینک\n",
        "    if re.match(r'https?://[^\\s]+', token):\n",
        "        return True\n",
        "    return False"
      ]
    },
    {
      "cell_type": "code",
      "execution_count": 4,
      "metadata": {
        "id": "9o7cNyLeKtPg"
      },
      "outputs": [],
      "source": [
        "normalizer = Normalizer()\n",
        "stemmer = Stemmer()\n",
        "\n",
        "\n",
        "def preprocessing(comment):\n",
        "    # حذف ایموجی‌ها\n",
        "    comment = emoji.replace_emoji(comment, replace=\"\")\n",
        "    # حذف لینک‌ها\n",
        "    comment = re.sub(r'https?://\\S+|www\\.\\S+', '', comment)\n",
        "    # حذف علامت‌های نگارشی\n",
        "    comment = re.sub(r'[^\\w\\s]', '', comment)\n",
        "    # حذف اعداد\n",
        "    comment = re.sub(r'\\d+', '', comment)\n",
        "    text =  comment\n",
        "    normalized = normalizer.normalize(text)\n",
        "    tokens = word_tokenize(normalized)\n",
        "    filtered = []\n",
        "    for token in tokens:\n",
        "        token = str(token)\n",
        "        token = token.lower()\n",
        "        token = re.sub(r'[\\u200c\\u200b\\u200d]', ' ', token)\n",
        "        if not token in STOPWORDS and not token.isdigit() and not is_sticker(token):\n",
        "            filtered.append(token)\n",
        "    return ' '.join(filtered)\n"
      ]
    },
    {
      "cell_type": "code",
      "execution_count": 5,
      "metadata": {
        "id": "_KlMJ4OFLXqB"
      },
      "outputs": [],
      "source": [
        "train = pd.read_csv('../data/snappfood/train.csv', sep='\\t')\n",
        "dev = pd.read_csv('../data/snappfood/dev.csv', sep='\\t')\n",
        "test = pd.read_csv('../data/snappfood/test.csv', sep='\\t')"
      ]
    },
    {
      "cell_type": "code",
      "execution_count": 6,
      "metadata": {
        "id": "hfrtptBeNriF"
      },
      "outputs": [],
      "source": [
        "train['processed_comment'] = train['comment'].map(preprocessing)\n",
        "dev['processed_comment'] = dev['comment'].map(preprocessing)\n",
        "test['processed_comment'] = test['comment'].map(preprocessing)"
      ]
    },
    {
      "cell_type": "code",
      "execution_count": null,
      "metadata": {
        "colab": {
          "base_uri": "https://localhost:8080/",
          "height": 206
        },
        "id": "Po3z1NfLOLNc",
        "outputId": "5f3e8b81-cb63-4e4c-cead-c154524fb4b6"
      },
      "outputs": [],
      "source": [
        "train.head()"
      ]
    },
    {
      "cell_type": "code",
      "execution_count": null,
      "metadata": {
        "colab": {
          "base_uri": "https://localhost:8080/",
          "height": 542
        },
        "id": "W2dCU18sOVV_",
        "outputId": "b23551e0-135d-41db-a913-0e6964dc7b04"
      },
      "outputs": [],
      "source": [
        "cnt = dict(train['label'].value_counts())\n",
        "\n",
        "labels = list(cnt.keys())\n",
        "sizes = list(cnt.values())\n",
        "fig = px.histogram(x=labels, y=sizes)\n",
        "fig.show()"
      ]
    },
    {
      "cell_type": "code",
      "execution_count": 9,
      "metadata": {
        "id": "T_Q47MoUPbnq"
      },
      "outputs": [],
      "source": [
        "def tokenize(text):\n",
        "    return word_tokenize(text)"
      ]
    },
    {
      "cell_type": "code",
      "execution_count": 10,
      "metadata": {
        "id": "IZyMlF14Pnw1"
      },
      "outputs": [],
      "source": [
        "x_train, y_train = train['processed_comment'], train['label_id']\n",
        "x_dev, y_dev = dev['processed_comment'], dev['label_id']\n",
        "x_test, y_test = test['processed_comment'], test['label_id']"
      ]
    },
    {
      "cell_type": "code",
      "execution_count": null,
      "metadata": {
        "id": "GtNfyoDkOgzk"
      },
      "outputs": [],
      "source": [
        "from sklearn.preprocessing import FunctionTransformer\n",
        "from sklearn.feature_extraction.text import TfidfVectorizer\n",
        "\n",
        "def get_comments(df):\n",
        "    return df.values\n",
        "\n",
        "pipeline = Pipeline([\n",
        "    ('get_comments', FunctionTransformer(get_comments, validate=False)),\n",
        "    ('tfidf', TfidfVectorizer())\n",
        "])\n",
        "\n",
        "x_train = pipeline.fit_transform(x_train)\n",
        "x_dev = pipeline.transform(x_dev)\n",
        "x_test = pipeline.transform(x_test)"
      ]
    },
    {
      "cell_type": "code",
      "execution_count": null,
      "metadata": {},
      "outputs": [],
      "source": [
        "x_train"
      ]
    },
    {
      "cell_type": "code",
      "execution_count": null,
      "metadata": {
        "colab": {
          "base_uri": "https://localhost:8080/",
          "height": 350
        },
        "id": "7krzqs7CRp0B",
        "outputId": "3fa3b302-b83c-4537-a017-d04133aac51c"
      },
      "outputs": [],
      "source": [
        "import tensorflow as tf\n",
        "from tensorflow.keras.models import Sequential\n",
        "from tensorflow.keras.layers import Dense\n",
        "\n",
        "model = Sequential([\n",
        "    tf.keras.layers.Dense(units=128, activation='relu', input_shape=(27052,)),  # لایه پنهان اول\n",
        "    tf.keras.layers.Dense(units=64, activation='relu'),  # لایه پنهان دوم\n",
        "    tf.keras.layers.Dense(units=32, activation='relu'),  # لایه پنهان سوم\n",
        "    tf.keras.layers.Dense(units=1, activation='sigmoid')  # لایه خروجی با یک نورون\n",
        "])\n",
        "\n",
        "model.summary()\n",
        "\n",
        "model.compile(optimizer='adam', loss='binary_crossentropy', metrics=['f1_score'])\n"
      ]
    },
    {
      "cell_type": "code",
      "execution_count": null,
      "metadata": {
        "colab": {
          "base_uri": "https://localhost:8080/"
        },
        "id": "Y36MEggzSn2x",
        "outputId": "12b25e80-1788-4b6d-8a10-eadbf6a13bd0"
      },
      "outputs": [],
      "source": [
        "model.fit(x_train, y_train, epochs=10)"
      ]
    },
    {
      "cell_type": "code",
      "execution_count": null,
      "metadata": {
        "colab": {
          "base_uri": "https://localhost:8080/"
        },
        "id": "dkF1dY9uY3Ee",
        "outputId": "1000e741-069d-49bb-e011-66210b5667da"
      },
      "outputs": [],
      "source": [
        "y_predict_train = model.predict(x_train)"
      ]
    },
    {
      "cell_type": "code",
      "execution_count": null,
      "metadata": {
        "colab": {
          "base_uri": "https://localhost:8080/"
        },
        "id": "cEIxkdxhagQ1",
        "outputId": "7588b77a-9f27-4c7b-c9db-cc10725cd9f3"
      },
      "outputs": [],
      "source": [
        "y_predict_dev = model.predict(x_dev)\n",
        "y_predict_test = model.predict(x_test)"
      ]
    },
    {
      "cell_type": "code",
      "execution_count": null,
      "metadata": {
        "colab": {
          "base_uri": "https://localhost:8080/",
          "height": 542
        },
        "id": "o5e2-wpHcAeK",
        "outputId": "2bce4b24-56aa-4395-a14a-9f5e1f9cd114"
      },
      "outputs": [],
      "source": [
        "fig = px.scatter(y_predict_train)\n",
        "fig.show()"
      ]
    },
    {
      "cell_type": "code",
      "execution_count": null,
      "metadata": {
        "colab": {
          "base_uri": "https://localhost:8080/",
          "height": 542
        },
        "id": "C7duclXobBtx",
        "outputId": "5a483387-cd49-4956-c509-73f222809831"
      },
      "outputs": [],
      "source": [
        "fig = px.scatter(y_predict_dev)\n",
        "fig.show()"
      ]
    },
    {
      "cell_type": "code",
      "execution_count": null,
      "metadata": {
        "colab": {
          "base_uri": "https://localhost:8080/",
          "height": 542
        },
        "id": "GdB4w9awb-TV",
        "outputId": "34477f65-7412-41b6-b0b9-e4b7687779c5"
      },
      "outputs": [],
      "source": [
        "fig = px.scatter(y_predict_test)\n",
        "fig.show()"
      ]
    },
    {
      "cell_type": "code",
      "execution_count": 136,
      "metadata": {
        "id": "uQYj1ywcaqtW"
      },
      "outputs": [],
      "source": [
        "threshold = 0.05"
      ]
    },
    {
      "cell_type": "code",
      "execution_count": null,
      "metadata": {
        "colab": {
          "base_uri": "https://localhost:8080/"
        },
        "id": "k7uA-y58aNZr",
        "outputId": "286e22db-d9f3-49f1-80b2-06146a03ad5b"
      },
      "outputs": [],
      "source": [
        "predicted_label_train = np.zeros(len(y_predict_train))\n",
        "for i in range(len(y_predict_train)):\n",
        "  if y_predict_train[i] > threshold:\n",
        "    predicted_label_train[i] = 1\n",
        "  else:\n",
        "    predicted_label_train[i] = 0\n",
        "print( \"f1 score : \", f1_score(predicted_label_train, y_train))\n",
        "print(classification_report(predicted_label_train, y_train))"
      ]
    },
    {
      "cell_type": "code",
      "execution_count": null,
      "metadata": {
        "colab": {
          "base_uri": "https://localhost:8080/"
        },
        "id": "hO4sE4T6ZXis",
        "outputId": "56cf575c-0152-4d14-ef4a-3ea4c52fc771"
      },
      "outputs": [],
      "source": [
        "predicted_label_dev = np.zeros(len(y_predict_dev))\n",
        "for i in range(len(y_predict_dev)):\n",
        "  if y_predict_dev[i] > threshold:\n",
        "    predicted_label_dev[i] = 1\n",
        "  else:\n",
        "    predicted_label_dev[i] = 0\n",
        "print( \"f1 score : \", f1_score(predicted_label_dev, y_dev))\n",
        "print(classification_report(predicted_label_dev, y_dev))"
      ]
    },
    {
      "cell_type": "code",
      "execution_count": null,
      "metadata": {
        "colab": {
          "base_uri": "https://localhost:8080/"
        },
        "id": "FUM1mrLEaFQi",
        "outputId": "9892a670-42b1-4991-cd73-a1ae1fcab49e"
      },
      "outputs": [],
      "source": [
        "predicted_label_test = np.zeros(len(y_predict_test))\n",
        "for i in range(len(y_predict_test)):\n",
        "  if y_predict_test[i] > 0.1:\n",
        "    predicted_label_test[i] = 1\n",
        "  else:\n",
        "    predicted_label_test[i] = 0\n",
        "print( \"f1 score : \", f1_score(predicted_label_test, y_test))\n",
        "print(classification_report(predicted_label_test, y_test))"
      ]
    },
    {
      "cell_type": "code",
      "execution_count": 154,
      "metadata": {
        "id": "-JFEkzsAd2w5"
      },
      "outputs": [],
      "source": [
        "df = pd.DataFrame({\n",
        "    'comment': test['comment'],\n",
        "    'true_label': y_test,\n",
        "    'predicted_label': predicted_label_test,\n",
        "    'probibilty': [round(x[0], 2) for x in y_predict_test.tolist()]\n",
        "})"
      ]
    },
    {
      "cell_type": "code",
      "execution_count": null,
      "metadata": {
        "colab": {
          "base_uri": "https://localhost:8080/",
          "height": 423
        },
        "id": "Fgnvqx9CeKNM",
        "outputId": "f1594baa-e5de-4a5d-d2da-7a9dfba65f15"
      },
      "outputs": [],
      "source": [
        "df[df['true_label'] == df['predicted_label']]"
      ]
    },
    {
      "cell_type": "code",
      "execution_count": 6,
      "metadata": {},
      "outputs": [],
      "source": [
        "import tensorflow as tf\n",
        "\n",
        "loaded_model = tf.keras.models.load_model('my_model.keras')"
      ]
    },
    {
      "cell_type": "code",
      "execution_count": null,
      "metadata": {},
      "outputs": [],
      "source": [
        "loaded_model.summary()"
      ]
    },
    {
      "cell_type": "code",
      "execution_count": null,
      "metadata": {},
      "outputs": [],
      "source": [
        "import pandas as pd\n",
        "data = pd.read_csv('../data/BaSalam.reviews.csv')"
      ]
    },
    {
      "cell_type": "code",
      "execution_count": 34,
      "metadata": {},
      "outputs": [],
      "source": [
        "reviews = data[data['description'].notna()]['description'].sample(10000)"
      ]
    },
    {
      "cell_type": "code",
      "execution_count": 35,
      "metadata": {},
      "outputs": [],
      "source": [
        "x_train = pd.read_csv('../data/snappfood/train.csv', sep='\\t')['comment']"
      ]
    },
    {
      "cell_type": "code",
      "execution_count": null,
      "metadata": {},
      "outputs": [],
      "source": [
        "from sklearn.preprocessing import FunctionTransformer\n",
        "from sklearn.feature_extraction.text import TfidfVectorizer\n",
        "from sklearn.pipeline import Pipeline\n",
        "def get_comments(df):\n",
        "    return df.values\n",
        "\n",
        "pipeline = Pipeline([\n",
        "    ('get_comments', FunctionTransformer(get_comments, validate=False)),\n",
        "    ('tfidf', TfidfVectorizer())\n",
        "])\n",
        "\n",
        "x_train = pipeline.fit_transform(x_train)\n",
        "reviews = pipeline.transform(reviews)\n",
        "reviews"
      ]
    },
    {
      "cell_type": "code",
      "execution_count": null,
      "metadata": {},
      "outputs": [],
      "source": [
        "loaded_model.predict(reviews)"
      ]
    }
  ],
  "metadata": {
    "colab": {
      "provenance": []
    },
    "kernelspec": {
      "display_name": "tf_env",
      "language": "python",
      "name": "python3"
    },
    "language_info": {
      "codemirror_mode": {
        "name": "ipython",
        "version": 3
      },
      "file_extension": ".py",
      "mimetype": "text/x-python",
      "name": "python",
      "nbconvert_exporter": "python",
      "pygments_lexer": "ipython3",
      "version": "3.12.8"
    }
  },
  "nbformat": 4,
  "nbformat_minor": 0
}
