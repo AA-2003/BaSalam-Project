{
 "cells": [
  {
   "cell_type": "markdown",
   "metadata": {},
   "source": [
    "# Columns review"
   ]
  },
  {
   "cell_type": "markdown",
   "metadata": {},
   "source": [
    "## BaSalam.reviews.csv"
   ]
  },
  {
   "cell_type": "markdown",
   "metadata": {},
   "source": [
    "| Column Name          | Description                                      | Data Type | Example Value | Notes |\n",
    "|----------------------|--------------------------------------------------|-----------|---------------|-------|\n",
    "| `_id`                | Unique identifier for the review                 | Int       | 661ba8636a6e1c5d7e70ef18| -     |\n",
    "| `productId`          | Product ID                                       | Int       | 7122085       | link to products.csv      |\n",
    "| `star`               | Rating (1-5)                                     | Int       | 1             | 78% is 5     |\n",
    "| `user_id`            | User ID                                          | Int       | 651823        | most frequent value is 4     |\n",
    "| `isPost`             | Indicates if the data is a post                  | Bool      | False         | All false, cause thay are comments     |\n",
    "| `isPublic`           | Indicates whether the review is public or private| Bool      | True          | 98% is True     |\n",
    "| `Id`                 | Another unique identifier for the review         | Int       | 1870799       | Possibly redundant with `_id` |\n",
    "| `createdAt`          | Timestamp when the review was created            | Datetime  | 2018-10-17T12:21:26 | beetween 2018-09-22 and 2024-04-09    |\n",
    "| `updatedAt`          | Timestamp when the review was last updated       | Datetime  | 2018-10-17T12:21:26| -     |\n",
    "| `hashId`             | Hashed version of the ID                         | Str       | eLmjEG             |      |\n",
    "| `isPosted`           | ?? I think it is same as  `isPost`                          | Bool      | True          | some rows are True - 7% is null |\n",
    "| `isLikedByCurrentUser`| Indicates if the review is liked by the current user       | Bool      | True          | -     |\n",
    "| `isDislikedByCurrentUser`| Indicates if the review is disliked by the current user | Bool      | False         | -     |\n",
    "| `likeCount`           | Number of users who liked the review                       | Int       | 221           | 75% is 0     |\n",
    "| `dislikeCount`        | Number of users who disliked the review                    | Int       | 0             | all 0     |\n",
    "| `attachments`         | Photos and videos attached to the review                   | Dict      | {'photos': [], 'video': None}              | 97% is nothing     |\n",
    "| `history_count`       | Rich review content(in kaggle)  ??                                    | Int       | 1             | ??      |\n",
    "| `name_of_user`        | User name                                                  | Str       | دوست باسلامی  | 40% is null     |\n",
    "| `hash_id_of_user`     | Hashed user ID                                             | Str       | Ye0Ky         | -     |\n",
    "| `photo_of_user`       | User photo                                                 | Dict(urls)| {'LARGE': '', 'MEDIUM': '', 'SMALL': '', 'EXTRA_SMALL': ''}      | download link - 96% is null     |\n",
    "| `description`         | The text or content of the review                          | Str       | عالی       |       41% is null     |\n",
    "| `reason_ids[0]` to `reason_ids[7]` | Detailed reasons for reviews through (in kaggle)      | Float     | 155.0    | ?? 93 to 99% is null     |\n",
    "| `variation_metadata`  | Detailed reasons for reviews through (in kaggle)           | Dict | { } | ?? 95% is null |"
   ]
  },
  {
   "cell_type": "markdown",
   "metadata": {},
   "source": [
    "## BaSalam.products.csv"
   ]
  },
  {
   "cell_type": "markdown",
   "metadata": {},
   "source": [
    "| Col name               | Description                                              | Type    | Example value | Note                          |\n",
    "|------------------------|---------------------------------------------------------|------|------------|------------------------------|\n",
    "| `_id`                  | Each product id                                | Int64   | 13310448        | -       |\n",
    "| `_score`               | Basic identifiers and metrics(site) Not unique | float64 | 83.333336       | 1500 unique values   |\n",
    "| `sales_count_week`     | Sales performance                              | int64   | 0      | 96% is 0 |\n",
    "| `name`                 | Product name                                   | Object (str) | ریش تراش برقی پرو مکس    | there is duplicate names - less than 1% is nan  |\n",
    "| `price`                | Product price                                  | float64 | 1000      | less than 1% is nan  |\n",
    "| `status_id`            | Available                                      | float64 | 2976.0    | 99% is 2976.0      |\n",
    "| `status_title`         | Available                                      | Object (str) | دردسترس | less than 1% is nan|\n",
    "| `stock`                | Stock                                          | float64 | 1.0          | less than 1% is nan |\n",
    "| `photo_SMALL`          | Product photo                                  | url     | link | less than 1% is nan |\n",
    "| `photo_MEDIUM`         | Product photo                                  | url     | link | less than 1% is nan |\n",
    "| `rating_average`       | Average Customer ratings for product(0 to 5)   | float64 | 3.6  | less than 1% is nan |\n",
    "| `rating_count`         | Number of rate for a product                   | float64 | 2.0  | less than 1% is nan |\n",
    "| `rating_signals`       | same as rating_count                           | float64 | 3    | less than 1% is nan |\n",
    "| `primaryPrice`         | primary price of product                       | float64 | 100.0| less than 1% is nan |\n",
    "| `preparationDays`      | How many days take to product get ready        | float64 | 30   | less than 1% is nan |\n",
    "| `weight`               | Product weight                                 | float64 | 3    | less than 1% is nan |\n",
    "| `categoryId`           | categoryId old                                 | float64 | 78.0 | less than 10% is nan - 80% is 0 |\n",
    "| `categoryTitle`        | categoryTitle new                              | str     | ارده | less than 1% is nan |\n",
    "| `new_categoryId`       | categoryId new                                 | float64 | 35   | less than 1% is nan |\n",
    "| `has_delivery`         | delivery                                       | bool    | True | 60% is True |\n",
    "| `has_variation`        |      ??                                        | bool    | False| 95% is False |\n",
    "| `navigation_id`        | شناسه مربوط به ناوبری                         | float64 |4003.0| 98% is nan |\n",
    "| `vendor_name`          | نام فروشنده محصول                             | str     | تیپاکس| less than 1% is nan |\n",
    "| `vendor_identifier`    | شناسه فروشنده                                 | str     | vendor_identifier   | less than 1% is nan |\n",
    "| `vendor_statusId`      | شناسه وضعیت فروشنده                           | Int     | 2988.0             | less than 1% is nan |\n",
    "| `vendor_freeShippingToIran` | آیا فروشنده ارسال رایگان به ایران دارد          | Float   | 20000000.0 | 30% is nan |\n",
    "| `vendor_freeShippingToSameCity` | آیا فروشنده ارسال رایگان به همان شهر دارد   | Float   | 6200000.0  | 30% is nan |\n",
    "| `vendor_cityId`        | شناسه شهر فروشنده                       | float64 | 2052.0     | less than 1% is nan |\n",
    "| `vendor_provinceId`    | شناسه استان فروشنده                     | float64 | 32/0      | 32 province - less than 1% is nan |\n",
    "| `vendor_has_delivery`  | آیا فروشنده خدمات ارسال ارائه می‌دهد    | Bool    | true      | less than 1% is nan |\n",
    "| `vendor_score`         | vendor score                             | 0/1     | 1    | 50% is nan |\n",
    "| `vendor_id`            | شناسه فروشنده                           | Float   | 19    | less than 1% is nan |\n",
    "| `vendor_status_id`     | شناسه وضعیت فروشنده                     | Bool    | 2987.0 | less than 1% is nan |\n",
    "| `vendor_status_title`  | عنوان وضعیت فروشنده                     | Str     | فعال  | less than 1% is nan - 99% is فعال|\n",
    "| `vendor_owner_city`    | شهری که فروشنده در آن قرار دارد        | Str    | یزد   | less than 1% is nan |\n",
    "| `vendor_owner_id`      | شناسه یکتا برای مالک فروشنده           | float64     | 11  | less than 1% is nan - different from vendor_id |\n",
    "| `isFreeShipping`       | آیا محصول ارسال رایگان دارد(حداقل اندازه سبد خرید) | bool  | 3 | less than 1% is nan |\n",
    "| `IsAvailable`          | آیا محصول در دسترس است (موجودی)        | Bool    | true  | less than 1% is nan |\n",
    "| `IsSaleable`           | آیا محصول قابلیت فروش دارد             | Bool    | false | less than 1% is nan |\n",
    "| `mainAttribute`        | ویژگی اصلی محصول Additional attributes and miscellaneous details | str     | گرم    | 91%  is nan |\n",
    "| `published`            | آیا محصول منتشر شده است           | bool    | 2341306    | 97% is nan - 99% is True |\n",
    "| `video_ORIGINAL`       | url      | url     | link    |  93% is nan   |\n",
    "| `promotions`           | اطلاعات مربوط به تخفیف‌ها           | dict    | dict    | 99% is nan |"
   ]
  },
  {
   "cell_type": "markdown",
   "metadata": {},
   "source": [
    "# Exploration"
   ]
  },
  {
   "cell_type": "markdown",
   "metadata": {},
   "source": [
    "- ***There are reviews that are positive, but have a low star rating and vice versa.***\n",
    "- ***We have no reviews for 1,684,121 (2,411,358 -> 70%) of the products***\n",
    "- ***Approximately 647,351 (90%) of those products have less than 10 reviews***\n",
    "![My Image](img/reviews_per_products.png)\n",
    "- ***There are a lot of category title***\n",
    "- ***There is a big difference between the average of category 1 - with products that have reviews and 2 - with all those products***\n",
    "- ***1634181 (68%) of products have 0 rating***\n",
    "- ***There are some products with high number of rating but without any review***\n",
    "- ***90% of non zero rating count products have under 10 rating count***\n",
    "- ***Top five provinces in number of vendors: 1-Tehran(23529) 2-Esfahan(8851) 3-RazaviKhorasan(8446) 4-Qom(5002) 5-Fars(4149) others***\n",
    "- ***The 100 best and worst vendors have the same results.***"
   ]
  }
 ],
 "metadata": {
  "kernelspec": {
   "display_name": "env",
   "language": "python",
   "name": "python3"
  },
  "language_info": {
   "name": "python",
   "version": "3.9.0"
  }
 },
 "nbformat": 4,
 "nbformat_minor": 2
}
