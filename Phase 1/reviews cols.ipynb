{
 "cells": [
  {
   "cell_type": "code",
   "execution_count": 67,
   "metadata": {},
   "outputs": [],
   "source": [
    "import pandas as pd\n",
    "import numpy as np\n",
    "import plotly.express as px\n",
    "import os"
   ]
  },
  {
   "cell_type": "code",
   "execution_count": 68,
   "metadata": {},
   "outputs": [],
   "source": [
    "data_path = os.getenv('DATA_PATH')\n",
    "reviews = pd.read_csv(f'{data_path}/BaSalam.reviews.csv', low_memory=False)"
   ]
  },
  {
   "cell_type": "code",
   "execution_count": null,
   "metadata": {},
   "outputs": [],
   "source": [
    "reviews.iloc[0]"
   ]
  },
  {
   "cell_type": "code",
   "execution_count": null,
   "metadata": {},
   "outputs": [],
   "source": [
    "reviews.info()"
   ]
  },
  {
   "cell_type": "code",
   "execution_count": 71,
   "metadata": {},
   "outputs": [],
   "source": [
    "cols = reviews.columns.tolist()\n",
    "miss_values = pd.Series([int(reviews[col].isna().sum()) for col in cols])\n",
    "\n",
    "def outliers_number(data: pd.Series, iqr=True,  modified=False, threshold=3, threshold_modified=4.5):\n",
    "    if iqr:\n",
    "        q1 = data.quantile(0.25)\n",
    "        q3 = data.quantile(0.75)\n",
    "        IQR = q3-q1\n",
    "\n",
    "        return data[(data > q3+IQR*1.5) | (data < q1-IQR*1.5)].index\n",
    "    else:\n",
    "        if modified:\n",
    "            median = data.median()\n",
    "            mad = np.median(np.abs(data - median))\n",
    "            \n",
    "            modified_z_scores = 0.6745 * (data - median) / mad\n",
    "\n",
    "            return data[np.abs(modified_z_scores) > threshold_modified].index\n",
    "        else:\n",
    "            z_score = (data - data.mean()) / data.std()\n",
    "            return data[np.abs(data) > threshold].index\n",
    "        \n",
    "def outlier_len(iqr, modified):\n",
    "    outlier_iqr = []\n",
    "    for col in cols:\n",
    "        if (type(reviews[col][0]) in [np.int64, np.float64]):\n",
    "            outlier_iqr.append(len(outliers_number(reviews[col], iqr, modified)))\n",
    "        else:\n",
    "            outlier_iqr.append(np.nan)\n",
    "\n",
    "    return pd.Series(outlier_iqr)\n",
    "\n",
    "pd.DataFrame(index=reviews.columns.tolist(),\n",
    "             data={\n",
    "            'miss value': miss_values.values,\n",
    "            \"type\": reviews.dtypes.values,\n",
    "            'outlier_iqr': outlier_len(True, False).values,\n",
    "            'outlier_Z-score': outlier_len(False, False).values,\n",
    "            'outlier_Z-score modified': outlier_len(False, True).values,\n",
    "            'Most repeated': [reviews[col].value_counts().index[0] for col in cols]\n",
    "            })"
   ]
  },
  {
   "cell_type": "code",
   "execution_count": null,
   "metadata": {},
   "outputs": [],
   "source": [
    "reviews[(reviews['productId']== 1715746) & (reviews['description'].notna())][['description', 'star', 'updatedAt']].sort_values(by='updatedAt', ascending=False)"
   ]
  },
  {
   "cell_type": "code",
   "execution_count": null,
   "metadata": {},
   "outputs": [],
   "source": [
    "from sentiment_analysis import comment_classification\n",
    "\n",
    "id = 4940\n",
    "print(comment_classification(reviews.iloc[id]['description']), reviews.iloc[id]['description'], reviews.iloc[id]['star'])"
   ]
  },
  {
   "cell_type": "code",
   "execution_count": 62,
   "metadata": {},
   "outputs": [],
   "source": [
    "reviews_count_per_product = reviews.groupby('productId')['_id'].agg(['count']).reset_index().sort_values(\n",
    "    by='count', ascending=False)\n",
    "reviews_count_per_product.to_csv('reviews_count_per_product.csv', index=False)"
   ]
  },
  {
   "cell_type": "code",
   "execution_count": 63,
   "metadata": {},
   "outputs": [],
   "source": [
    "reviews_count_per_product.to_csv('reviews_count_per_product.csv', index=False)"
   ]
  },
  {
   "cell_type": "code",
   "execution_count": null,
   "metadata": {},
   "outputs": [],
   "source": [
    "fig = px.bar(reviews_count_per_product, x='productId', y='count', text='count')\n",
    "\n",
    "fig.show()"
   ]
  },
  {
   "cell_type": "code",
   "execution_count": 35,
   "metadata": {},
   "outputs": [],
   "source": [
    "sample = reviews.sample(100000).copy()"
   ]
  },
  {
   "cell_type": "code",
   "execution_count": null,
   "metadata": {},
   "outputs": [],
   "source": [
    "sample['history_count']"
   ]
  },
  {
   "cell_type": "code",
   "execution_count": 79,
   "metadata": {},
   "outputs": [],
   "source": [
    "drop_cols = [\n",
    "    'id', \n",
    "    'user_id_of_user', 'hashId', 'hash_id_of_user', 'reason_ids[0]',\n",
    "    'reason_ids[1]', 'reason_ids[2]', 'reason_ids[3]', 'reason_ids[4]',\n",
    "    'reason_ids[5]', 'reason_ids[6]', 'reason_ids[7]', 'variation_metadata'\n",
    "]"
   ]
  },
  {
   "cell_type": "code",
   "execution_count": 80,
   "metadata": {},
   "outputs": [],
   "source": [
    "data = reviews.drop(columns=drop_cols).sample(100000)"
   ]
  },
  {
   "cell_type": "code",
   "execution_count": null,
   "metadata": {},
   "outputs": [],
   "source": [
    "star_by_time = data[['star', 'createdAt']].copy()\n",
    "star_by_time.loc[:, 'createdAt'] = pd.to_datetime(star_by_time['createdAt'])\n",
    "star_by_time.loc[:, 'star'] = star_by_time['star'].map({\n",
    "    1:'1',\n",
    "    2:'1',\n",
    "    3:'1',\n",
    "    4:'2',\n",
    "    5:'3'\n",
    "})"
   ]
  },
  {
   "cell_type": "code",
   "execution_count": 82,
   "metadata": {},
   "outputs": [],
   "source": [
    "star_by_time = star_by_time.sort_values(by='createdAt', ascending=False)\n",
    "star_by_time['season'] = pd.PeriodIndex(star_by_time['createdAt'],freq='Q')"
   ]
  },
  {
   "cell_type": "code",
   "execution_count": 83,
   "metadata": {},
   "outputs": [],
   "source": [
    "star_by_season = star_by_time.groupby('season')['star'].value_counts(normalize=True).mul(100).reset_index(name='percentage')\n",
    "star_by_season = star_by_season.sort_values(by=['season', 'star'], ascending=[True, True])"
   ]
  },
  {
   "cell_type": "code",
   "execution_count": 84,
   "metadata": {},
   "outputs": [],
   "source": [
    "star_by_season['season'] = star_by_season['season'].map(lambda x: str(f\"{x.year}-season{x.quarter}\"))"
   ]
  },
  {
   "cell_type": "code",
   "execution_count": null,
   "metadata": {},
   "outputs": [],
   "source": [
    "fig = px.bar(star_by_season, \n",
    "             x='season', \n",
    "             y='percentage', \n",
    "             color='star', \n",
    "             text='percentage')\n",
    "\n",
    "fig.update_traces(texttemplate='%{text:.2f}%', textposition='outside')\n",
    "\n",
    "fig.show()"
   ]
  }
 ],
 "metadata": {
  "kernelspec": {
   "display_name": "env",
   "language": "python",
   "name": "python3"
  },
  "language_info": {
   "codemirror_mode": {
    "name": "ipython",
    "version": 3
   },
   "file_extension": ".py",
   "mimetype": "text/x-python",
   "name": "python",
   "nbconvert_exporter": "python",
   "pygments_lexer": "ipython3",
   "version": "3.9.0"
  }
 },
 "nbformat": 4,
 "nbformat_minor": 2
}
