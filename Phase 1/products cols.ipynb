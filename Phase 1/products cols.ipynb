{
 "cells": [
  {
   "cell_type": "code",
   "execution_count": 1,
   "metadata": {},
   "outputs": [],
   "source": [
    "import pandas as pd\n",
    "import numpy as np\n",
    "import plotly.express as px\n",
    "import plotly.graph_objects as go\n",
    "import plotly.figure_factory as ff\n",
    "import os"
   ]
  },
  {
   "cell_type": "code",
   "execution_count": 87,
   "metadata": {},
   "outputs": [],
   "source": [
    "data_path = os.getenv('DATA_PATH')\n",
    "products = pd.read_csv(f'{data_path}/BaSalam.products.csv', low_memory=False)"
   ]
  },
  {
   "cell_type": "code",
   "execution_count": null,
   "metadata": {},
   "outputs": [],
   "source": [
    "def outliers_number(data: pd.Series, iqr=True,  modified=False, threshold=3, threshold_modified=4.5):\n",
    "    if iqr:\n",
    "        q1 = data.quantile(0.25)\n",
    "        q3 = data.quantile(0.75)\n",
    "        IQR = q3-q1\n",
    "\n",
    "        return data[(data > q3+IQR*1.5) | (data < q1-IQR*1.5)].index\n",
    "    else:\n",
    "        if modified:\n",
    "            median = data.median()\n",
    "            mad = np.median(np.abs(data - median))\n",
    "            \n",
    "            modified_z_scores = 0.6745 * (data - median) / mad\n",
    "\n",
    "            return data[np.abs(modified_z_scores) > threshold_modified].index\n",
    "        else:\n",
    "            z_score = (data - data.mean()) / data.std()\n",
    "            return data[np.abs(data) > threshold].index\n",
    "\n",
    "cols = products.columns.tolist()\n",
    "miss_values = pd.Series([int(products[col].isna().sum()) for col in cols])\n",
    "    \n",
    "def outlier_len(iqr, modified):\n",
    "    outlier_iqr = []\n",
    "    for col in cols:\n",
    "        if (type(products[col][0]) in [np.int64, np.float64]):\n",
    "            outlier_iqr.append(len(outliers_number(products[col], iqr, modified)))\n",
    "        else:\n",
    "            outlier_iqr.append(np.nan)\n",
    "\n",
    "    return pd.Series(outlier_iqr)\n",
    "\n",
    "pd.DataFrame(index=products.columns.tolist(),\n",
    "             data={\n",
    "            'miss value': miss_values.values,\n",
    "            'uniq': products.nunique(),\n",
    "            \"type\": products.dtypes.values,\n",
    "            'outlier_iqr': outlier_len(True, False).values,\n",
    "            'outlier_Z-score': outlier_len(False, False).values,\n",
    "            'outlier_Z-score modified': outlier_len(False, True).values,\n",
    "            'Most repeated': [products[col].value_counts().index[0] for col in cols]\n",
    "            })"
   ]
  },
  {
   "cell_type": "code",
   "execution_count": null,
   "metadata": {},
   "outputs": [],
   "source": [
    "sample = products.sample(n=100000)\n",
    "sample.columns"
   ]
  },
  {
   "cell_type": "code",
   "execution_count": null,
   "metadata": {},
   "outputs": [],
   "source": [
    "sample.groupby('categoryTitle')['_id'].count().sort_values(ascending=False)"
   ]
  },
  {
   "cell_type": "code",
   "execution_count": null,
   "metadata": {},
   "outputs": [],
   "source": [
    "# filter products with rating count more than 1/5 of the max rating count\n",
    "sample[sample['rating_count']>max(products['rating_count'])/5][['_id','rating_average', 'name', 'sales_count_week']].sort_values(by='rating_average')"
   ]
  },
  {
   "cell_type": "code",
   "execution_count": null,
   "metadata": {},
   "outputs": [],
   "source": [
    "# products with count of their reviews\n",
    "reviews_per_product = pd.read_csv('reviews_count_per_product.csv')\n",
    "reviews_per_product.head()"
   ]
  },
  {
   "cell_type": "code",
   "execution_count": null,
   "metadata": {},
   "outputs": [],
   "source": [
    "# number of products without any reviews\n",
    "len(sample[~sample['_id'].isin(reviews_per_product['productId'])])/sample.shape[0]"
   ]
  },
  {
   "cell_type": "code",
   "execution_count": null,
   "metadata": {},
   "outputs": [],
   "source": [
    "px.histogram(reviews_per_product['count'])"
   ]
  },
  {
   "cell_type": "code",
   "execution_count": null,
   "metadata": {},
   "outputs": [],
   "source": [
    "# check the average rating of products with at least 10 reviews\n",
    "p_atleast10comment = sample[sample['_id'].isin(reviews_per_product[reviews_per_product['count']>10]['productId'])]\n",
    "p_atleast10comment[p_atleast10comment['rating_count'] > 100][['name', 'sales_count_week', 'rating_average', 'categoryTitle']].groupby(\n",
    "    'categoryTitle').filter(lambda x: len(x)>5).groupby('categoryTitle')['rating_average'].agg(['mean', 'count']).sort_values(by='mean')"
   ]
  },
  {
   "cell_type": "code",
   "execution_count": null,
   "metadata": {},
   "outputs": [],
   "source": [
    "# check the average rating of products with at least 5 reviews\n",
    "print(sample[sample['categoryTitle'] == 'میوه خشک']['rating_average'].mean())\n",
    "print(sample[(sample['categoryTitle'] == 'میوه خشک') & (sample['_id'].isin(reviews_per_product[reviews_per_product['count']>5]['productId']))]['rating_average'].mean())"
   ]
  },
  {
   "cell_type": "code",
   "execution_count": null,
   "metadata": {},
   "outputs": [],
   "source": [
    "# check the average rating of categories with at least 50 products and at least 5 reviews\n",
    "\n",
    "filtered = sample[(sample['categoryTitle'] != 'سایر') & (sample['rating_average']!=0) & (sample['_id'].isin(reviews_per_product[reviews_per_product['count']>5]['productId']))\n",
    "                    ].groupby('categoryTitle').filter(lambda x: len(x)>5\n",
    "                    ).groupby('categoryTitle')['rating_average'].mean().reset_index(name='rate'\n",
    "                    ).sort_values(by='rate', ascending=True).head(30)\n",
    "\n",
    "rating_by_cat_plot = pd.DataFrame({\n",
    "    'category': filtered.categoryTitle.values,\n",
    "    'rate': filtered.rate.values\n",
    "})\n",
    "\n",
    "fig = px.bar(rating_by_cat_plot, x='category', y='rate')\n",
    "fig.update_layout(\n",
    "    xaxis=dict(\n",
    "        tickangle=-90,\n",
    "        tickfont=dict(size=14, color='black') \n",
    "    )\n",
    ")\n",
    "\n",
    "fig.show()"
   ]
  },
  {
   "cell_type": "code",
   "execution_count": null,
   "metadata": {},
   "outputs": [],
   "source": [
    "# check the number of rating count \n",
    "print(sum(sample[(sample['categoryTitle'] != 'سایر') & (sample['rating_average']!=0)]['rating_count']<10)/len(sample[(sample['categoryTitle'] != 'سایر') & (sample['rating_average']!=0)]['rating_count']))\n",
    "fig = px.histogram(sample[(sample['categoryTitle'] != 'سایر') & (sample['rating_average']!=0)]['rating_count'])\n",
    "\n",
    "fig.show()"
   ]
  },
  {
   "cell_type": "code",
   "execution_count": null,
   "metadata": {},
   "outputs": [],
   "source": [
    "filtered = sample[(sample['categoryTitle'] != 'سایر') & (sample['rating_average']!=0\n",
    "                )].groupby('categoryTitle').size().reset_index(name='product_count').sort_values(by='product_count', ascending=False).head(10)\n",
    "\n",
    "rating_by_cat_plot = pd.DataFrame({\n",
    "    'category': filtered.categoryTitle.values,\n",
    "    'product_count': filtered.product_count.values\n",
    "})\n",
    "\n",
    "fig = px.bar(rating_by_cat_plot, x='category', y='product_count')\n",
    "fig.update_layout(\n",
    "    xaxis=dict(\n",
    "        tickangle=-45,\n",
    "        tickfont=dict(size=14, color='black')  \n",
    "    )\n",
    ")\n",
    "\n",
    "fig.show()"
   ]
  },
  {
   "cell_type": "markdown",
   "metadata": {},
   "source": [
    "## map"
   ]
  },
  {
   "cell_type": "code",
   "execution_count": 89,
   "metadata": {},
   "outputs": [],
   "source": [
    "map_provinceId = {\n",
    "    3.0: 'EastAzarbaijan', 4.0: 'WestAzarbaijan', 5.0: 'Ardebil', 6.0: 'Esfahan', 7.0: 'Alborz',\n",
    "    8.0: 'Ilam',9.0: 'Bushehr',10.0: 'Tehran',11.0: 'ChaharMahallandBakhtiari',\n",
    "    12.0: 'SouthKhorasan', 13.0: 'RazaviKhorasan', 14.0: 'NorthKhorasan', 15.0:'Khuzestan',\n",
    "    16.0: 'Zanjan', 17.0: 'Semnan', 18.0: 'SistanandBaluchestan', 19.0: 'Fars', 20.0: 'Qazvin',\n",
    "    21.0: 'Qom', 22.0: 'Kordestan', 23.0:'Kerman', 24.0:'Kermanshah',\n",
    "    25.0: 'KohgiluyehandBuyerAhmad', 26.0: 'Golestan',\n",
    "    27.0: 'Gilan', 28.0: 'Lorestan', 29.0: 'Mazandaran',\n",
    "    30.0: 'Markazi', 31.0: 'Hormozgan', 32.0:'Hamadan', 33.0: 'Yazd'\n",
    "}"
   ]
  },
  {
   "cell_type": "code",
   "execution_count": 90,
   "metadata": {},
   "outputs": [],
   "source": [
    "import geopandas as gpd\n",
    "\n",
    "# Load the GeoJSON file\n",
    "gdf = gpd.read_file('E:/Courses&Code/BaSalam-Project/data/geojson/gadm41_IRN_1.json')"
   ]
  },
  {
   "cell_type": "code",
   "execution_count": 91,
   "metadata": {},
   "outputs": [],
   "source": [
    "products['vendor_provinceId'] = products['vendor_provinceId'].map(map_provinceId)"
   ]
  },
  {
   "cell_type": "code",
   "execution_count": 132,
   "metadata": {},
   "outputs": [],
   "source": [
    "vendor_counts = products.groupby('vendor_provinceId')['vendor_id'].nunique()\n",
    "vendor_counts = vendor_counts.reset_index(name='NAME_1')\n",
    "vendor_counts.columns = ['NAME_1', 'vendor_counts']\n",
    "vendor_counts['percentage'] = pd.Series(np.round(vendor_counts['vendor_counts'] / len(products['vendor_id'].unique()) * 100 , 2))\n",
    "vendor_per_province = pd.merge(gdf, vendor_counts, on='NAME_1')"
   ]
  },
  {
   "cell_type": "code",
   "execution_count": null,
   "metadata": {},
   "outputs": [],
   "source": [
    "fig = px.choropleth(vendor_per_province,\n",
    "                    geojson=vendor_per_province.geometry,\n",
    "                    locations=vendor_per_province.index,\n",
    "                    color=vendor_per_province.vendor_counts,  \n",
    "                    hover_name=vendor_per_province['NAME_1'],  \n",
    "                    title=\"Number of vendors in each province\",\n",
    "                    hover_data=['percentage'])\n",
    "\n",
    "fig.update_geos(fitbounds=\"locations\", visible=True)\n",
    "\n",
    "fig.show()"
   ]
  },
  {
   "cell_type": "markdown",
   "metadata": {},
   "source": [
    "### worst vendor province"
   ]
  },
  {
   "cell_type": "code",
   "execution_count": null,
   "metadata": {},
   "outputs": [],
   "source": [
    "products[(products['rating_count']>10)].groupby('vendor_id')['rating_average'].mean().sort_values(ascending=True).head(200)"
   ]
  },
  {
   "cell_type": "code",
   "execution_count": null,
   "metadata": {},
   "outputs": [],
   "source": [
    "worst_vendor_province = products[products['vendor_id'].isin(products[(products['rating_count']>10)].groupby('vendor_id')['rating_average'].mean().sort_values(ascending=True).head(100).index)][\n",
    "    ['vendor_id', 'vendor_provinceId']].drop_duplicates().groupby('vendor_provinceId')['vendor_id'].count().sort_values(ascending=False).reset_index(name='vendor_count')\n",
    "worst_vendor_province.columns = ['NAME_1', 'vendor_counts']\n",
    "worst_vendor_province['percentage'] = pd.Series(worst_vendor_province['vendor_counts'] )\n",
    "vendor_per_province = pd.merge(gdf, worst_vendor_province, on='NAME_1')\n",
    "fig = px.choropleth(vendor_per_province,\n",
    "                    geojson=vendor_per_province.geometry,\n",
    "                    locations=vendor_per_province.index,\n",
    "                    color=vendor_per_province.vendor_counts,  \n",
    "                    hover_name=vendor_per_province['NAME_1'],  \n",
    "                    title=\"Number of vendors in each province\",\n",
    "                    hover_data=['percentage'])\n",
    "fig.update_geos(fitbounds=\"locations\", visible=True)\n",
    "\n",
    "fig.show()"
   ]
  },
  {
   "cell_type": "markdown",
   "metadata": {},
   "source": [
    "### best vendor province\n"
   ]
  },
  {
   "cell_type": "code",
   "execution_count": null,
   "metadata": {},
   "outputs": [],
   "source": [
    "best_vendor_province = products[products['vendor_id'].isin(products[(products['rating_count']>10)].groupby('vendor_id')['rating_average'].mean().sort_values(ascending=False).head(100).index)][\n",
    "    ['vendor_id', 'vendor_provinceId']].drop_duplicates().groupby('vendor_provinceId')['vendor_id'].count().sort_values(ascending=False).reset_index(name='vendor_count')\n",
    "best_vendor_province.columns = ['NAME_1', 'vendor_counts']\n",
    "best_vendor_province['percentage'] = pd.Series(best_vendor_province['vendor_counts'] )\n",
    "vendor_per_province = pd.merge(gdf, best_vendor_province, on='NAME_1')\n",
    "\n",
    "fig = px.choropleth(vendor_per_province,\n",
    "                    geojson=vendor_per_province.geometry,\n",
    "                    locations=vendor_per_province.index,\n",
    "                    color=vendor_per_province.vendor_counts,  \n",
    "                    hover_name=vendor_per_province['NAME_1'],  \n",
    "                    title=\"Number of vendors in each province\",\n",
    "                    hover_data=['percentage'])\n",
    "fig.update_geos(fitbounds=\"locations\", visible=True)\n",
    "\n",
    "fig.show()"
   ]
  }
 ],
 "metadata": {
  "kernelspec": {
   "display_name": "env",
   "language": "python",
   "name": "python3"
  },
  "language_info": {
   "codemirror_mode": {
    "name": "ipython",
    "version": 3
   },
   "file_extension": ".py",
   "mimetype": "text/x-python",
   "name": "python",
   "nbconvert_exporter": "python",
   "pygments_lexer": "ipython3",
   "version": "3.9.0"
  }
 },
 "nbformat": 4,
 "nbformat_minor": 2
}
